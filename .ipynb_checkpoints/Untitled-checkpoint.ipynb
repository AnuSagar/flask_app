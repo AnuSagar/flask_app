{
 "cells": [
  {
   "cell_type": "code",
   "execution_count": 1,
   "metadata": {},
   "outputs": [],
   "source": [
    "from get_user_status import *"
   ]
  },
  {
   "cell_type": "code",
   "execution_count": 2,
   "metadata": {},
   "outputs": [
    {
     "name": "stdout",
     "output_type": "stream",
     "text": [
      "user address\n"
     ]
    },
    {
     "data": {
      "text/plain": [
       "'STATUS : AMBER | User is 180.0 meters from containment zone'"
      ]
     },
     "execution_count": 2,
     "metadata": {},
     "output_type": "execute_result"
    }
   ],
   "source": [
    "address = 'Allana Rd, Kala Ghoda fort, mumbai 400001'\n",
    "get_user_add_status(address)"
   ]
  },
  {
   "cell_type": "code",
   "execution_count": null,
   "metadata": {},
   "outputs": [],
   "source": [
    "import dash\n",
    "import dash_core_components as dcc\n",
    "import dash_html_components as html\n",
    "from dash.dependencies import Output, State, Input\n",
    "\n",
    "if __name__ == '__main__':\n",
    "    app = dash.Dash()\n",
    "\n",
    "    app.layout = html.Div([\n",
    "        dcc.Input(id='username', value='Address', type='text'),\n",
    "        html.Button(id='submit-button', type='submit', children='Submit'),\n",
    "        html.Div(id='output_div')\n",
    "    ])\n",
    "\n",
    "    @app.callback(Output('output_div', 'children'),\n",
    "                  [Input('submit-button', 'n_clicks')],\n",
    "                  [State('username', 'value')],\n",
    "                  )\n",
    "    def update_output(clicks, input_value):\n",
    "        if clicks is not None:\n",
    "            text = get_user_add_status(input_value)\n",
    "            #text = '   kjfvskjnc,as' + input_value\n",
    "            return(text)\n",
    "\n",
    "    app.run_server(debug=True, use_reloader=False)"
   ]
  }
 ],
 "metadata": {
  "kernelspec": {
   "display_name": "Python 3",
   "language": "python",
   "name": "python3"
  },
  "language_info": {
   "codemirror_mode": {
    "name": "ipython",
    "version": 3
   },
   "file_extension": ".py",
   "mimetype": "text/x-python",
   "name": "python",
   "nbconvert_exporter": "python",
   "pygments_lexer": "ipython3",
   "version": "3.8.3"
  }
 },
 "nbformat": 4,
 "nbformat_minor": 4
}
